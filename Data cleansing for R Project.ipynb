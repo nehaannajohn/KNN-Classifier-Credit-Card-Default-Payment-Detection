{
 "cells": [
  {
   "cell_type": "code",
   "execution_count": 2,
   "metadata": {},
   "outputs": [
    {
     "name": "stdout",
     "output_type": "stream",
     "text": [
      "Populating the interactive namespace from numpy and matplotlib\n"
     ]
    }
   ],
   "source": [
    "import pandas as pd\n",
    "from pandas import Series, DataFrame\n",
    "%pylab inline"
   ]
  },
  {
   "cell_type": "code",
   "execution_count": 47,
   "metadata": {},
   "outputs": [],
   "source": [
    "df=pd.read_csv('UCI_Credit_Card_$.csv')\n",
    "df.head()\n",
    "df.drop(columns=['LIMIT_BAL','BILL_AMT1','BILL_AMT2','BILL_AMT3','BILL_AMT4','BILL_AMT5','BILL_AMT6','PAY_AMT1','PAY_AMT2','PAY_AMT3','PAY_AMT4','PAY_AMT5','PAY_AMT6'],inplace=True)"
   ]
  },
  {
   "cell_type": "code",
   "execution_count": 35,
   "metadata": {},
   "outputs": [
    {
     "data": {
      "text/plain": [
       "(30000, 25)"
      ]
     },
     "execution_count": 35,
     "metadata": {},
     "output_type": "execute_result"
    }
   ],
   "source": [
    "df.shape"
   ]
  },
  {
   "cell_type": "code",
   "execution_count": 36,
   "metadata": {},
   "outputs": [
    {
     "data": {
      "text/html": [
       "<div>\n",
       "<style scoped>\n",
       "    .dataframe tbody tr th:only-of-type {\n",
       "        vertical-align: middle;\n",
       "    }\n",
       "\n",
       "    .dataframe tbody tr th {\n",
       "        vertical-align: top;\n",
       "    }\n",
       "\n",
       "    .dataframe thead th {\n",
       "        text-align: right;\n",
       "    }\n",
       "</style>\n",
       "<table border=\"1\" class=\"dataframe\">\n",
       "  <thead>\n",
       "    <tr style=\"text-align: right;\">\n",
       "      <th></th>\n",
       "      <th>ID</th>\n",
       "      <th>LIMIT_BAL$</th>\n",
       "      <th>SEX</th>\n",
       "      <th>EDUCATION</th>\n",
       "      <th>MARRIAGE</th>\n",
       "      <th>AGE</th>\n",
       "      <th>PAY_1</th>\n",
       "      <th>PAY_2</th>\n",
       "      <th>PAY_3</th>\n",
       "      <th>PAY_4</th>\n",
       "      <th>...</th>\n",
       "      <th>BILL_AMT4$</th>\n",
       "      <th>BILL_AMT5$</th>\n",
       "      <th>BILL_AMT6$</th>\n",
       "      <th>PAY_AMT1$</th>\n",
       "      <th>PAY_AMT2$</th>\n",
       "      <th>PAY_AMT3$</th>\n",
       "      <th>PAY_AMT4$</th>\n",
       "      <th>PAY_AMT5$</th>\n",
       "      <th>PAY_AMT6$</th>\n",
       "      <th>default.payment.next.month</th>\n",
       "    </tr>\n",
       "  </thead>\n",
       "  <tbody>\n",
       "    <tr>\n",
       "      <th>count</th>\n",
       "      <td>30000.000000</td>\n",
       "      <td>30000.000000</td>\n",
       "      <td>30000.000000</td>\n",
       "      <td>30000.000000</td>\n",
       "      <td>30000.000000</td>\n",
       "      <td>30000.000000</td>\n",
       "      <td>30000.000000</td>\n",
       "      <td>30000.000000</td>\n",
       "      <td>30000.000000</td>\n",
       "      <td>30000.000000</td>\n",
       "      <td>...</td>\n",
       "      <td>30000.000000</td>\n",
       "      <td>30000.000000</td>\n",
       "      <td>30000.000000</td>\n",
       "      <td>30000.000000</td>\n",
       "      <td>30000.000000</td>\n",
       "      <td>30000.000000</td>\n",
       "      <td>30000.000000</td>\n",
       "      <td>30000.000000</td>\n",
       "      <td>30000.000000</td>\n",
       "      <td>30000.000000</td>\n",
       "    </tr>\n",
       "    <tr>\n",
       "      <th>mean</th>\n",
       "      <td>15000.500000</td>\n",
       "      <td>5359.498325</td>\n",
       "      <td>1.603733</td>\n",
       "      <td>1.853133</td>\n",
       "      <td>1.551867</td>\n",
       "      <td>35.485500</td>\n",
       "      <td>-0.016700</td>\n",
       "      <td>-0.133767</td>\n",
       "      <td>-0.166200</td>\n",
       "      <td>-0.220667</td>\n",
       "      <td>...</td>\n",
       "      <td>1384.414367</td>\n",
       "      <td>1289.964831</td>\n",
       "      <td>1243.896333</td>\n",
       "      <td>181.234576</td>\n",
       "      <td>189.477232</td>\n",
       "      <td>167.221808</td>\n",
       "      <td>154.434460</td>\n",
       "      <td>153.580404</td>\n",
       "      <td>166.896082</td>\n",
       "      <td>0.221200</td>\n",
       "    </tr>\n",
       "    <tr>\n",
       "      <th>std</th>\n",
       "      <td>8660.398374</td>\n",
       "      <td>4151.925170</td>\n",
       "      <td>0.489129</td>\n",
       "      <td>0.790349</td>\n",
       "      <td>0.521970</td>\n",
       "      <td>9.217904</td>\n",
       "      <td>1.123802</td>\n",
       "      <td>1.197186</td>\n",
       "      <td>1.196868</td>\n",
       "      <td>1.169139</td>\n",
       "      <td>...</td>\n",
       "      <td>2058.651396</td>\n",
       "      <td>1945.508985</td>\n",
       "      <td>1905.731441</td>\n",
       "      <td>530.024971</td>\n",
       "      <td>737.307853</td>\n",
       "      <td>563.422767</td>\n",
       "      <td>501.317112</td>\n",
       "      <td>488.905782</td>\n",
       "      <td>568.878905</td>\n",
       "      <td>0.415062</td>\n",
       "    </tr>\n",
       "    <tr>\n",
       "      <th>min</th>\n",
       "      <td>1.000000</td>\n",
       "      <td>320.000000</td>\n",
       "      <td>1.000000</td>\n",
       "      <td>0.000000</td>\n",
       "      <td>0.000000</td>\n",
       "      <td>21.000000</td>\n",
       "      <td>-2.000000</td>\n",
       "      <td>-2.000000</td>\n",
       "      <td>-2.000000</td>\n",
       "      <td>-2.000000</td>\n",
       "      <td>...</td>\n",
       "      <td>-5440.000000</td>\n",
       "      <td>-2602.688000</td>\n",
       "      <td>-10867.296000</td>\n",
       "      <td>0.000000</td>\n",
       "      <td>0.000000</td>\n",
       "      <td>0.000000</td>\n",
       "      <td>0.000000</td>\n",
       "      <td>0.000000</td>\n",
       "      <td>0.000000</td>\n",
       "      <td>0.000000</td>\n",
       "    </tr>\n",
       "    <tr>\n",
       "      <th>25%</th>\n",
       "      <td>7500.750000</td>\n",
       "      <td>1600.000000</td>\n",
       "      <td>1.000000</td>\n",
       "      <td>1.000000</td>\n",
       "      <td>1.000000</td>\n",
       "      <td>28.000000</td>\n",
       "      <td>-1.000000</td>\n",
       "      <td>-1.000000</td>\n",
       "      <td>-1.000000</td>\n",
       "      <td>-1.000000</td>\n",
       "      <td>...</td>\n",
       "      <td>74.456000</td>\n",
       "      <td>56.416000</td>\n",
       "      <td>40.192000</td>\n",
       "      <td>32.000000</td>\n",
       "      <td>26.656000</td>\n",
       "      <td>12.480000</td>\n",
       "      <td>9.472000</td>\n",
       "      <td>8.080000</td>\n",
       "      <td>3.768000</td>\n",
       "      <td>0.000000</td>\n",
       "    </tr>\n",
       "    <tr>\n",
       "      <th>50%</th>\n",
       "      <td>15000.500000</td>\n",
       "      <td>4480.000000</td>\n",
       "      <td>2.000000</td>\n",
       "      <td>2.000000</td>\n",
       "      <td>2.000000</td>\n",
       "      <td>34.000000</td>\n",
       "      <td>0.000000</td>\n",
       "      <td>0.000000</td>\n",
       "      <td>0.000000</td>\n",
       "      <td>0.000000</td>\n",
       "      <td>...</td>\n",
       "      <td>609.664000</td>\n",
       "      <td>579.344000</td>\n",
       "      <td>546.272000</td>\n",
       "      <td>67.200000</td>\n",
       "      <td>64.288000</td>\n",
       "      <td>57.600000</td>\n",
       "      <td>48.000000</td>\n",
       "      <td>48.000000</td>\n",
       "      <td>48.000000</td>\n",
       "      <td>0.000000</td>\n",
       "    </tr>\n",
       "    <tr>\n",
       "      <th>75%</th>\n",
       "      <td>22500.250000</td>\n",
       "      <td>7680.000000</td>\n",
       "      <td>2.000000</td>\n",
       "      <td>2.000000</td>\n",
       "      <td>2.000000</td>\n",
       "      <td>41.000000</td>\n",
       "      <td>0.000000</td>\n",
       "      <td>0.000000</td>\n",
       "      <td>0.000000</td>\n",
       "      <td>0.000000</td>\n",
       "      <td>...</td>\n",
       "      <td>1744.192000</td>\n",
       "      <td>1606.096000</td>\n",
       "      <td>1574.344000</td>\n",
       "      <td>160.192000</td>\n",
       "      <td>160.000000</td>\n",
       "      <td>144.160000</td>\n",
       "      <td>128.424000</td>\n",
       "      <td>129.008000</td>\n",
       "      <td>128.000000</td>\n",
       "      <td>0.000000</td>\n",
       "    </tr>\n",
       "    <tr>\n",
       "      <th>max</th>\n",
       "      <td>30000.000000</td>\n",
       "      <td>32000.000000</td>\n",
       "      <td>2.000000</td>\n",
       "      <td>6.000000</td>\n",
       "      <td>3.000000</td>\n",
       "      <td>79.000000</td>\n",
       "      <td>8.000000</td>\n",
       "      <td>8.000000</td>\n",
       "      <td>8.000000</td>\n",
       "      <td>8.000000</td>\n",
       "      <td>...</td>\n",
       "      <td>28530.752000</td>\n",
       "      <td>29669.472000</td>\n",
       "      <td>30773.248000</td>\n",
       "      <td>27953.664000</td>\n",
       "      <td>53896.288000</td>\n",
       "      <td>28673.280000</td>\n",
       "      <td>19872.000000</td>\n",
       "      <td>13648.928000</td>\n",
       "      <td>16917.312000</td>\n",
       "      <td>1.000000</td>\n",
       "    </tr>\n",
       "  </tbody>\n",
       "</table>\n",
       "<p>8 rows × 25 columns</p>\n",
       "</div>"
      ],
      "text/plain": [
       "                 ID    LIMIT_BAL$           SEX     EDUCATION      MARRIAGE  \\\n",
       "count  30000.000000  30000.000000  30000.000000  30000.000000  30000.000000   \n",
       "mean   15000.500000   5359.498325      1.603733      1.853133      1.551867   \n",
       "std     8660.398374   4151.925170      0.489129      0.790349      0.521970   \n",
       "min        1.000000    320.000000      1.000000      0.000000      0.000000   \n",
       "25%     7500.750000   1600.000000      1.000000      1.000000      1.000000   \n",
       "50%    15000.500000   4480.000000      2.000000      2.000000      2.000000   \n",
       "75%    22500.250000   7680.000000      2.000000      2.000000      2.000000   \n",
       "max    30000.000000  32000.000000      2.000000      6.000000      3.000000   \n",
       "\n",
       "                AGE         PAY_1         PAY_2         PAY_3         PAY_4  \\\n",
       "count  30000.000000  30000.000000  30000.000000  30000.000000  30000.000000   \n",
       "mean      35.485500     -0.016700     -0.133767     -0.166200     -0.220667   \n",
       "std        9.217904      1.123802      1.197186      1.196868      1.169139   \n",
       "min       21.000000     -2.000000     -2.000000     -2.000000     -2.000000   \n",
       "25%       28.000000     -1.000000     -1.000000     -1.000000     -1.000000   \n",
       "50%       34.000000      0.000000      0.000000      0.000000      0.000000   \n",
       "75%       41.000000      0.000000      0.000000      0.000000      0.000000   \n",
       "max       79.000000      8.000000      8.000000      8.000000      8.000000   \n",
       "\n",
       "       ...    BILL_AMT4$    BILL_AMT5$    BILL_AMT6$     PAY_AMT1$  \\\n",
       "count  ...  30000.000000  30000.000000  30000.000000  30000.000000   \n",
       "mean   ...   1384.414367   1289.964831   1243.896333    181.234576   \n",
       "std    ...   2058.651396   1945.508985   1905.731441    530.024971   \n",
       "min    ...  -5440.000000  -2602.688000 -10867.296000      0.000000   \n",
       "25%    ...     74.456000     56.416000     40.192000     32.000000   \n",
       "50%    ...    609.664000    579.344000    546.272000     67.200000   \n",
       "75%    ...   1744.192000   1606.096000   1574.344000    160.192000   \n",
       "max    ...  28530.752000  29669.472000  30773.248000  27953.664000   \n",
       "\n",
       "          PAY_AMT2$     PAY_AMT3$     PAY_AMT4$     PAY_AMT5$     PAY_AMT6$  \\\n",
       "count  30000.000000  30000.000000  30000.000000  30000.000000  30000.000000   \n",
       "mean     189.477232    167.221808    154.434460    153.580404    166.896082   \n",
       "std      737.307853    563.422767    501.317112    488.905782    568.878905   \n",
       "min        0.000000      0.000000      0.000000      0.000000      0.000000   \n",
       "25%       26.656000     12.480000      9.472000      8.080000      3.768000   \n",
       "50%       64.288000     57.600000     48.000000     48.000000     48.000000   \n",
       "75%      160.000000    144.160000    128.424000    129.008000    128.000000   \n",
       "max    53896.288000  28673.280000  19872.000000  13648.928000  16917.312000   \n",
       "\n",
       "       default.payment.next.month  \n",
       "count                30000.000000  \n",
       "mean                     0.221200  \n",
       "std                      0.415062  \n",
       "min                      0.000000  \n",
       "25%                      0.000000  \n",
       "50%                      0.000000  \n",
       "75%                      0.000000  \n",
       "max                      1.000000  \n",
       "\n",
       "[8 rows x 25 columns]"
      ]
     },
     "execution_count": 36,
     "metadata": {},
     "output_type": "execute_result"
    }
   ],
   "source": [
    "df.describe()"
   ]
  },
  {
   "cell_type": "code",
   "execution_count": 62,
   "metadata": {},
   "outputs": [
    {
     "data": {
      "text/plain": [
       "ID                              int64\n",
       "LIMIT_BAL$                    float64\n",
       "SEX                             int64\n",
       "EDUCATION                     float64\n",
       "MARRIAGE                      float64\n",
       "AGE                           float64\n",
       "PAY_1                           int64\n",
       "PAY_2                           int64\n",
       "PAY_3                           int64\n",
       "PAY_4                           int64\n",
       "PAY_5                           int64\n",
       "PAY_6                           int64\n",
       "BILL_AMT1$                    float64\n",
       "BILL_AMT2$                    float64\n",
       "BILL_AMT3$                    float64\n",
       "BILL_AMT4$                    float64\n",
       "BILL_AMT5$                    float64\n",
       "BILL_AMT6$                    float64\n",
       "PAY_AMT1$                     float64\n",
       "PAY_AMT2$                     float64\n",
       "PAY_AMT3$                     float64\n",
       "PAY_AMT4$                     float64\n",
       "PAY_AMT5$                     float64\n",
       "PAY_AMT6$                     float64\n",
       "default.payment.next.month      int64\n",
       "dtype: object"
      ]
     },
     "execution_count": 62,
     "metadata": {},
     "output_type": "execute_result"
    }
   ],
   "source": [
    "df.dtypes"
   ]
  },
  {
   "cell_type": "code",
   "execution_count": 43,
   "metadata": {},
   "outputs": [
    {
     "data": {
      "text/plain": [
       "2    14030\n",
       "1    10585\n",
       "3     4917\n",
       "5      280\n",
       "4      123\n",
       "6       51\n",
       "0       14\n",
       "Name: EDUCATION, dtype: int64"
      ]
     },
     "execution_count": 43,
     "metadata": {},
     "output_type": "execute_result"
    }
   ],
   "source": [
    "df['EDUCATION'].value_counts()"
   ]
  },
  {
   "cell_type": "code",
   "execution_count": 56,
   "metadata": {},
   "outputs": [
    {
     "data": {
      "text/plain": [
       "30000"
      ]
     },
     "execution_count": 56,
     "metadata": {},
     "output_type": "execute_result"
    }
   ],
   "source": [
    "#Removing education types 0,4,5,6\n",
    "def checkEdu(x):\n",
    "    if x==1 or x==2 or x==3:\n",
    "        return x\n",
    "df['EDUCATION']=df['EDUCATION'].map(checkEdu)\n",
    "df['EDUCATION'].value_counts()"
   ]
  },
  {
   "cell_type": "code",
   "execution_count": 45,
   "metadata": {},
   "outputs": [
    {
     "data": {
      "text/plain": [
       "2    15964\n",
       "1    13659\n",
       "3      323\n",
       "0       54\n",
       "Name: MARRIAGE, dtype: int64"
      ]
     },
     "execution_count": 45,
     "metadata": {},
     "output_type": "execute_result"
    }
   ],
   "source": [
    "df['MARRIAGE'].value_counts()"
   ]
  },
  {
   "cell_type": "code",
   "execution_count": 49,
   "metadata": {},
   "outputs": [
    {
     "data": {
      "text/plain": [
       "2.0    15964\n",
       "1.0    13659\n",
       "Name: MARRIAGE, dtype: int64"
      ]
     },
     "execution_count": 49,
     "metadata": {},
     "output_type": "execute_result"
    }
   ],
   "source": [
    "#Removing marriage types 0,3\n",
    "def checkMar(x):\n",
    "    if x==1 or x==2:\n",
    "        return x\n",
    "df['MARRIAGE']=df['MARRIAGE'].map(checkMar)\n",
    "df['MARRIAGE'].value_counts()"
   ]
  },
  {
   "cell_type": "code",
   "execution_count": 50,
   "metadata": {},
   "outputs": [],
   "source": [
    "#Removing age groups greater than 59\n",
    "def checkAge(x):\n",
    "    if x<59:\n",
    "        return x\n",
    "df['AGE']=df['AGE'].map(checkAge) "
   ]
  },
  {
   "cell_type": "code",
   "execution_count": 52,
   "metadata": {},
   "outputs": [],
   "source": [
    "#Removing limit balance greater than 30000USD\n",
    "def checkLimit(x):\n",
    "    if x<30000.00:\n",
    "        return x\n",
    "df['LIMIT_BAL$']=df['LIMIT_BAL$'].map(checkLimit)"
   ]
  },
  {
   "cell_type": "code",
   "execution_count": 73,
   "metadata": {},
   "outputs": [
    {
     "data": {
      "text/plain": [
       "29683"
      ]
     },
     "execution_count": 73,
     "metadata": {},
     "output_type": "execute_result"
    }
   ],
   "source": [
    "#Removing rows with billing amount 0 across 6 periods and default status as 1\n",
    "mask=(df['BILL_AMT1$']==0)  & (df['BILL_AMT2$']==0.0)  & (df['BILL_AMT3$']==0.0) & (df['BILL_AMT4$']==0.0) & (df['BILL_AMT5$']==0.0) & (df['BILL_AMT6$']==0.0) & (df['default.payment.next.month']==1.0)\n",
    "df=df[~mask]"
   ]
  },
  {
   "cell_type": "code",
   "execution_count": 79,
   "metadata": {},
   "outputs": [
    {
     "data": {
      "text/plain": [
       "29574"
      ]
     },
     "execution_count": 79,
     "metadata": {},
     "output_type": "execute_result"
    }
   ],
   "source": [
    "#Removing rows with negative billing amount in September and default status as 1\n",
    "mask1=(df['BILL_AMT1$']<0) & (df['default.payment.next.month']==1)\n",
    "df=df[~mask1]"
   ]
  },
  {
   "cell_type": "code",
   "execution_count": 89,
   "metadata": {},
   "outputs": [],
   "source": [
    "df.dropna(inplace=True)\n",
    "len(df)\n",
    "export_csv=df.to_csv(r'C:\\Users\\nehaa\\Desktop\\cleansed_data.csv', index = None, header=True)"
   ]
  },
  {
   "cell_type": "code",
   "execution_count": null,
   "metadata": {},
   "outputs": [],
   "source": [
    "Obtained the final data cleansed data set for use"
   ]
  }
 ],
 "metadata": {
  "kernelspec": {
   "display_name": "Python 2",
   "language": "python",
   "name": "python2"
  },
  "language_info": {
   "codemirror_mode": {
    "name": "ipython",
    "version": 2
   },
   "file_extension": ".py",
   "mimetype": "text/x-python",
   "name": "python",
   "nbconvert_exporter": "python",
   "pygments_lexer": "ipython2",
   "version": "2.7.16"
  }
 },
 "nbformat": 4,
 "nbformat_minor": 2
}
